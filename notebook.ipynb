{
 "cells": [
  {
   "cell_type": "code",
   "execution_count": 1,
   "metadata": {},
   "outputs": [],
   "source": [
    "import os\n",
    "os.environ[\"DJANGO_ALLOW_ASYNC_UNSAFE\"] = \"true\"\n",
    "import random\n",
    "\n",
    "import django\n",
    "django.setup()\n",
    "\n",
    "from bookstore.models import *\n",
    "# from mixer.backend.django import mixer\n",
    "from mixer.backend.django import Mixer\n",
    "\n",
    "mixer = Mixer(commit=False)"
   ]
  },
  {
   "cell_type": "markdown",
   "metadata": {},
   "source": [
    "## Fake data generator"
   ]
  },
  {
   "cell_type": "code",
   "execution_count": 2,
   "metadata": {},
   "outputs": [],
   "source": [
    "MULTIPLIER = 30\n",
    "AUTHOR_COUNT = MULTIPLIER * 5\n",
    "PUBLISHER_COUNT = MULTIPLIER * 5\n",
    "TAGS_COUNT = MULTIPLIER * 5\n",
    "SERIES_COUNT = MULTIPLIER * 5\n",
    "IDENTIFIERS_COUNT = MULTIPLIER * 30\n",
    "BOOKS_COUNT = MULTIPLIER * 30\n",
    "\n",
    "def generate_fields():\n",
    "    print('Generating Authors')\n",
    "    authors = mixer.cycle(AUTHOR_COUNT).blend(Author, name=mixer.faker.name)\n",
    "    print('Generating Publishers')\n",
    "    publishers = mixer.cycle(PUBLISHER_COUNT).blend(Publisher, name=mixer.faker.company)\n",
    "    print('Generating Tags')\n",
    "    tags = mixer.cycle(TAGS_COUNT).blend(Tag, name=mixer.faker.word)\n",
    "    print('Generating Series')\n",
    "    series = mixer.cycle(SERIES_COUNT).blend(Series, title=mixer.faker.sentence)\n",
    "    print('Generating Identifiers')\n",
    "    identifiers = mixer.cycle(IDENTIFIERS_COUNT).blend(Identifier, name='isbn13', value=mixer.faker.isbn13)\n",
    "    \n",
    "    Author.objects.bulk_create(authors)\n",
    "    Publisher.objects.bulk_create(publishers)\n",
    "    Tag.objects.bulk_create(tags)\n",
    "    Series.objects.bulk_create(series)\n",
    "#     Identifier.objects.bulk_create(identifiers)\n",
    "    \n",
    "    print('Updating models')\n",
    "    authors = Author.objects.all()[:AUTHOR_COUNT]\n",
    "    publishers = Publisher.objects.all()[:PUBLISHER_COUNT]\n",
    "    tags = Tag.objects.all()[:TAGS_COUNT]\n",
    "    series = Series.objects.all()[:SERIES_COUNT]\n",
    "#     identifiers = Identifier.objects.all()[:IDENTIFIERS_COUNT]\n",
    "    \n",
    "    print('Generating Books')\n",
    "    books = mixer.cycle(BOOKS_COUNT).blend(Book, title=mixer.faker.sentence, user=mixer.SELECT, publisher=mixer.SELECT, series=mixer.SELECT)\n",
    "    Book.objects.bulk_create(books)\n",
    "    books = Book.objects.all()[:BOOKS_COUNT]\n",
    "    \n",
    "    for book in books:\n",
    "        book.authors.add(random.choice(authors))\n",
    "        book.tags.add(random.choice(tags))\n",
    "        book.identifiers.add(random.choice(identifiers), bulk=False)\n",
    "        book.save()\n",
    "    #[book.save() for book in books]"
   ]
  },
  {
   "cell_type": "code",
   "execution_count": 3,
   "metadata": {},
   "outputs": [
    {
     "name": "stdout",
     "output_type": "stream",
     "text": [
      "Generating Authors\n",
      "Generating Publishers\n",
      "Generating Tags\n",
      "Generating Series\n",
      "Generating Identifiers\n",
      "Updating models\n",
      "Generating Books\n"
     ]
    }
   ],
   "source": [
    "generate_fields()"
   ]
  },
  {
   "cell_type": "markdown",
   "metadata": {},
   "source": [
    "## Database Queries"
   ]
  },
  {
   "cell_type": "code",
   "execution_count": null,
   "metadata": {},
   "outputs": [],
   "source": [
    "# вывод списка книг по id\n",
    "[book.id for book in Book.objects.all()]\n"
   ]
  },
  {
   "cell_type": "code",
   "execution_count": null,
   "metadata": {},
   "outputs": [],
   "source": [
    "# вывод списка книг по названию\n",
    "[book.title for book in Book.objects.order_by('title')]\n"
   ]
  },
  {
   "cell_type": "code",
   "execution_count": null,
   "metadata": {},
   "outputs": [],
   "source": [
    "# вывод списка книг по дате публикации\n",
    "[book.published_at for book in Book.objects.order_by('published_at')]\n"
   ]
  },
  {
   "cell_type": "code",
   "execution_count": null,
   "metadata": {},
   "outputs": [],
   "source": [
    "# вывод списка книг по рейтингу\n",
    "[book.rating for book in Book.objects.order_by('rating')]\n"
   ]
  },
  {
   "cell_type": "code",
   "execution_count": null,
   "metadata": {},
   "outputs": [],
   "source": [
    "# вывод списка книг по рандому\n",
    "import random\n",
    "books = [book for book in Book.objects.all()]\n",
    "random.shuffle(books)\n"
   ]
  },
  {
   "cell_type": "code",
   "execution_count": null,
   "metadata": {},
   "outputs": [],
   "source": [
    "# вывод списка книг по автору"
   ]
  },
  {
   "cell_type": "code",
   "execution_count": 21,
   "metadata": {},
   "outputs": [
    {
     "data": {
      "text/plain": [
       "<QuerySet [<Book: Book object (42)>, <Book: Book object (43)>]>"
      ]
     },
     "execution_count": 21,
     "metadata": {},
     "output_type": "execute_result"
    }
   ],
   "source": [
    "import random\n",
    "books = Author.objects.filter(pk=35).first().books.all()\n",
    "books"
   ]
  },
  {
   "cell_type": "code",
   "execution_count": null,
   "metadata": {},
   "outputs": [],
   "source": [
    "objs_count = Book.objects.count()\n",
    "random_ids = [i for i in range(1, objs_count+1)]\n",
    "random.shuffle(random_ids)"
   ]
  },
  {
   "cell_type": "code",
   "execution_count": null,
   "metadata": {},
   "outputs": [],
   "source": [
    "random_ids"
   ]
  },
  {
   "cell_type": "code",
   "execution_count": 7,
   "metadata": {},
   "outputs": [
    {
     "ename": "NameError",
     "evalue": "name 'author' is not defined",
     "output_type": "error",
     "traceback": [
      "\u001b[0;31m---------------------------------------------------------------------------\u001b[0m",
      "\u001b[0;31mNameError\u001b[0m                                 Traceback (most recent call last)",
      "\u001b[0;32m<ipython-input-7-cba9b7366232>\u001b[0m in \u001b[0;36m<module>\u001b[0;34m\u001b[0m\n\u001b[0;32m----> 1\u001b[0;31m \u001b[0mauthors\u001b[0m \u001b[0;34m=\u001b[0m \u001b[0;34m[\u001b[0m\u001b[0mbook\u001b[0m\u001b[0;34m.\u001b[0m\u001b[0mtitle\u001b[0m \u001b[0;32mfor\u001b[0m \u001b[0mbook\u001b[0m \u001b[0;32min\u001b[0m \u001b[0mauthor\u001b[0m\u001b[0;34m.\u001b[0m\u001b[0mbooks\u001b[0m\u001b[0;34m.\u001b[0m\u001b[0mall\u001b[0m\u001b[0;34m(\u001b[0m\u001b[0;34m)\u001b[0m \u001b[0;32mfor\u001b[0m \u001b[0mauthor\u001b[0m \u001b[0;32min\u001b[0m \u001b[0mAuthor\u001b[0m\u001b[0;34m.\u001b[0m\u001b[0mobjects\u001b[0m\u001b[0;34m.\u001b[0m\u001b[0mall\u001b[0m\u001b[0;34m(\u001b[0m\u001b[0;34m)\u001b[0m\u001b[0;34m]\u001b[0m\u001b[0;34m\u001b[0m\u001b[0;34m\u001b[0m\u001b[0m\n\u001b[0m",
      "\u001b[0;31mNameError\u001b[0m: name 'author' is not defined"
     ]
    }
   ],
   "source": [
    "authors = [[book.title for book in author.books.all()] for author in Author.objects.all()]"
   ]
  },
  {
   "cell_type": "code",
   "execution_count": 15,
   "metadata": {},
   "outputs": [],
   "source": [
    "with mixer.ctx(commit=False):\n",
    "    series = mixer.cycle(3).blend(Series, title=mixer.faker.sentence)\n",
    "    books = mixer.cycle(30).blend(Book, user=mixer.SELECT)\n",
    "    publishers = mixer.cycle(5).blend(Publisher, name=mixer.faker.company)\n",
    "    [setattr(book, 'series', (random.choice(series))) for book in books]"
   ]
  },
  {
   "cell_type": "code",
   "execution_count": 9,
   "metadata": {},
   "outputs": [
    {
     "data": {
      "text/plain": [
       "[<Series: Democrat ten state stock up after.>,\n",
       " <Series: It even mind late left response.>,\n",
       " <Series: Specific response home question already myself very.>]"
      ]
     },
     "execution_count": 9,
     "metadata": {},
     "output_type": "execute_result"
    }
   ],
   "source": [
    "series"
   ]
  },
  {
   "cell_type": "code",
   "execution_count": 12,
   "metadata": {},
   "outputs": [
    {
     "data": {
      "text/plain": [
       "<Series: It even mind late left response.>"
      ]
     },
     "execution_count": 12,
     "metadata": {},
     "output_type": "execute_result"
    }
   ],
   "source": [
    "books[1].series"
   ]
  },
  {
   "cell_type": "code",
   "execution_count": 18,
   "metadata": {},
   "outputs": [
    {
     "data": {
      "text/plain": [
       "[<Publisher: Tate, Allen and Medina>,\n",
       " <Publisher: Gross LLC>,\n",
       " <Publisher: Barker-Benton>,\n",
       " <Publisher: Flynn, Camacho and Spears>,\n",
       " <Publisher: Forbes, Cisneros and Vaughan>]"
      ]
     },
     "execution_count": 18,
     "metadata": {},
     "output_type": "execute_result"
    }
   ],
   "source": [
    "publishers"
   ]
  },
  {
   "cell_type": "code",
   "execution_count": 4,
   "metadata": {},
   "outputs": [],
   "source": [
    "authors = mixer.cycle(5*MULTIPLIER).blend(Author, name=mixer.faker.name)"
   ]
  },
  {
   "cell_type": "code",
   "execution_count": 6,
   "metadata": {},
   "outputs": [
    {
     "data": {
      "text/plain": [
       "5363"
      ]
     },
     "execution_count": 6,
     "metadata": {},
     "output_type": "execute_result"
    }
   ],
   "source": [
    "authors[2].pk"
   ]
  },
  {
   "cell_type": "code",
   "execution_count": null,
   "metadata": {},
   "outputs": [],
   "source": []
  }
 ],
 "metadata": {
  "celltoolbar": "Необработанный формат ячейки",
  "kernelspec": {
   "display_name": "Python 3",
   "language": "python",
   "name": "python3"
  },
  "language_info": {
   "codemirror_mode": {
    "name": "ipython",
    "version": 3
   },
   "file_extension": ".py",
   "mimetype": "text/x-python",
   "name": "python",
   "nbconvert_exporter": "python",
   "pygments_lexer": "ipython3",
   "version": "3.7.5"
  }
 },
 "nbformat": 4,
 "nbformat_minor": 1
}
