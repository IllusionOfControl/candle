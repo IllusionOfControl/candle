{
 "cells": [
  {
   "cell_type": "code",
   "execution_count": 1,
   "metadata": {},
   "outputs": [],
   "source": [
    "import os\n",
    "os.environ[\"DJANGO_ALLOW_ASYNC_UNSAFE\"] = \"true\"\n",
    "import random\n",
    "\n",
    "import django\n",
    "django.setup()\n",
    "\n",
    "from bookstore.models import *\n",
    "from mixer.backend.django import mixer"
   ]
  },
  {
   "cell_type": "markdown",
   "metadata": {},
   "source": [
    "## Fake data generator"
   ]
  },
  {
   "cell_type": "code",
   "execution_count": null,
   "metadata": {},
   "outputs": [],
   "source": [
    "def generate_fields():\n",
    "    author = mixer.cycle(5).blend(Author)\n",
    "    publishers = mixer.cycle(5).blend(Publisher)\n",
    "    tags = mixer.cycle(5).blend(Tag)\n",
    "    indentifiers = mixer.cycle(1).blend(Identifier)\n",
    "    books = mixer.cycle(30).blend(Book, user=mixer.SELECT)\n",
    "    books = [book.authors.add(random.choice(author)) for book in books]"
   ]
  },
  {
   "cell_type": "code",
   "execution_count": null,
   "metadata": {},
   "outputs": [],
   "source": [
    "generate_fields()"
   ]
  },
  {
   "cell_type": "markdown",
   "metadata": {},
   "source": [
    "## Database Queries"
   ]
  },
  {
   "cell_type": "code",
   "execution_count": null,
   "metadata": {},
   "outputs": [],
   "source": [
    "# вывод списка книг по id\n",
    "[book.id for book in Book.objects.all()]\n"
   ]
  },
  {
   "cell_type": "code",
   "execution_count": null,
   "metadata": {},
   "outputs": [],
   "source": [
    "# вывод списка книг по названию\n",
    "[book.title for book in Book.objects.order_by('title')]\n"
   ]
  },
  {
   "cell_type": "code",
   "execution_count": null,
   "metadata": {},
   "outputs": [],
   "source": [
    "# вывод списка книг по дате публикации\n",
    "[book.published_at for book in Book.objects.order_by('published_at')]\n"
   ]
  },
  {
   "cell_type": "code",
   "execution_count": null,
   "metadata": {},
   "outputs": [],
   "source": [
    "# вывод списка книг по рейтингу\n",
    "[book.rating for book in Book.objects.order_by('rating')]\n"
   ]
  },
  {
   "cell_type": "code",
   "execution_count": null,
   "metadata": {},
   "outputs": [],
   "source": [
    "# вывод списка книг по рандому\n",
    "import random\n",
    "books = [book for book in Book.objects.all()]\n",
    "random.shuffle(books)\n"
   ]
  },
  {
   "cell_type": "code",
   "execution_count": null,
   "metadata": {},
   "outputs": [],
   "source": [
    "# вывод списка книг по автору"
   ]
  },
  {
   "cell_type": "code",
   "execution_count": 21,
   "metadata": {},
   "outputs": [
    {
     "data": {
      "text/plain": [
       "<QuerySet [<Book: Book object (42)>, <Book: Book object (43)>]>"
      ]
     },
     "execution_count": 21,
     "metadata": {},
     "output_type": "execute_result"
    }
   ],
   "source": [
    "import random\n",
    "books = Author.objects.filter(pk=35).first().books.all()\n",
    "books"
   ]
  },
  {
   "cell_type": "code",
   "execution_count": null,
   "metadata": {},
   "outputs": [],
   "source": [
    "objs_count = Book.objects.count()\n",
    "random_ids = [i for i in range(1, objs_count+1)]\n",
    "random.shuffle(random_ids)"
   ]
  },
  {
   "cell_type": "code",
   "execution_count": null,
   "metadata": {},
   "outputs": [],
   "source": [
    "random_ids"
   ]
  },
  {
   "cell_type": "code",
   "execution_count": 7,
   "metadata": {},
   "outputs": [
    {
     "ename": "NameError",
     "evalue": "name 'author' is not defined",
     "output_type": "error",
     "traceback": [
      "\u001b[0;31m---------------------------------------------------------------------------\u001b[0m",
      "\u001b[0;31mNameError\u001b[0m                                 Traceback (most recent call last)",
      "\u001b[0;32m<ipython-input-7-cba9b7366232>\u001b[0m in \u001b[0;36m<module>\u001b[0;34m\u001b[0m\n\u001b[0;32m----> 1\u001b[0;31m \u001b[0mauthors\u001b[0m \u001b[0;34m=\u001b[0m \u001b[0;34m[\u001b[0m\u001b[0mbook\u001b[0m\u001b[0;34m.\u001b[0m\u001b[0mtitle\u001b[0m \u001b[0;32mfor\u001b[0m \u001b[0mbook\u001b[0m \u001b[0;32min\u001b[0m \u001b[0mauthor\u001b[0m\u001b[0;34m.\u001b[0m\u001b[0mbooks\u001b[0m\u001b[0;34m.\u001b[0m\u001b[0mall\u001b[0m\u001b[0;34m(\u001b[0m\u001b[0;34m)\u001b[0m \u001b[0;32mfor\u001b[0m \u001b[0mauthor\u001b[0m \u001b[0;32min\u001b[0m \u001b[0mAuthor\u001b[0m\u001b[0;34m.\u001b[0m\u001b[0mobjects\u001b[0m\u001b[0;34m.\u001b[0m\u001b[0mall\u001b[0m\u001b[0;34m(\u001b[0m\u001b[0;34m)\u001b[0m\u001b[0;34m]\u001b[0m\u001b[0;34m\u001b[0m\u001b[0;34m\u001b[0m\u001b[0m\n\u001b[0m",
      "\u001b[0;31mNameError\u001b[0m: name 'author' is not defined"
     ]
    }
   ],
   "source": [
    "authors = [[book.title for book in author.books.all()] for author in Author.objects.all()]"
   ]
  },
  {
   "cell_type": "code",
   "execution_count": 6,
   "metadata": {},
   "outputs": [
    {
     "data": {
      "text/plain": [
       "[[],\n",
       " [],\n",
       " [],\n",
       " [],\n",
       " [],\n",
       " [],\n",
       " [],\n",
       " [],\n",
       " [],\n",
       " [],\n",
       " [],\n",
       " [],\n",
       " [],\n",
       " [],\n",
       " [],\n",
       " [],\n",
       " [],\n",
       " [],\n",
       " [],\n",
       " [],\n",
       " [],\n",
       " [],\n",
       " [],\n",
       " [],\n",
       " [],\n",
       " [],\n",
       " [],\n",
       " [],\n",
       " [],\n",
       " [],\n",
       " [],\n",
       " ['Activity Or Business Local Identify Charge'],\n",
       " ['Western Concern Evening Stand Little Seven'],\n",
       " ['Admit Million Himself Situation Trouble Environmental'],\n",
       " ['Glass Thing Threat Civil Sound Fight', 'Deal Wish Character We Yet Skin'],\n",
       " [],\n",
       " [],\n",
       " [],\n",
       " [],\n",
       " [],\n",
       " [],\n",
       " [],\n",
       " [],\n",
       " [],\n",
       " [],\n",
       " [],\n",
       " ['Data Financial And Push Increase Position',\n",
       "  'There Trade Stay Glass Before Part',\n",
       "  'Possible Simple Moment Read Many Wish'],\n",
       " ['Lot Conference Exactly Stop Laugh South'],\n",
       " ['Under Large Yourself Walk Impact Add'],\n",
       " [],\n",
       " [],\n",
       " ['Identify Point Suffer Possible Attack Music',\n",
       "  'Reveal Sing Pm Responsibility Score Road',\n",
       "  'Lose Thing Help Successful Rather Share',\n",
       "  'After Magazine Lot According Themselves Collection',\n",
       "  'Against Girl But Site Green Its',\n",
       "  'Agency Let Budget Structure Become Of',\n",
       "  'Present Situation Sign Even Pressure Ten',\n",
       "  'Ask Process Go Doctor Crime Class',\n",
       "  'Hold Foreign Artist Himself Raise Pull',\n",
       "  'Local Fire Sound Thing Himself Here'],\n",
       " ['Teacher Difficult In Attack Way Interest',\n",
       "  'Measure Voice Note Ball Teach Social'],\n",
       " ['Reflect Experience Involve Create Institution Deep',\n",
       "  'Red Vote Free Chair Significant Foot',\n",
       "  'Board Perhaps Crime Action Difference Or',\n",
       "  'Hold Lay Claim Floor His Amount',\n",
       "  'Glass Argue Attention Live So Religious'],\n",
       " ['Pattern Director That Center Return Represent',\n",
       "  'Professional Everybody Thank Baby Effect Become',\n",
       "  'Fund I Possible Notice Of Soon',\n",
       "  'Answer Notice Series Ok Arrive Set',\n",
       "  'Point Expect Base Much Operation Consider',\n",
       "  'Low Agent Production You Quickly Figure',\n",
       "  'Message True Purpose Culture Well Watch'],\n",
       " ['Hot Book Us Free Bit Voice',\n",
       "  'Ready But Answer Box Act Fill',\n",
       "  'Computer Paper Because Fine Into Yes',\n",
       "  'High Suffer Accept Skin Force Remain',\n",
       "  'Program Thing Financial East Fight Us',\n",
       "  'Energy Cold Budget Up By On'],\n",
       " ['Make College Task Lose Sit You',\n",
       "  'Face Our Attorney Size Bag Author',\n",
       "  'With Set Tv Top Than Back',\n",
       "  'As Course Effort Interview Special Condition',\n",
       "  'Student Way Less Also Court Mean',\n",
       "  'Major Perform Long Sort Ever Participant',\n",
       "  'Today They Realize Voice Although Room',\n",
       "  'More Quite World Build Economy Yes',\n",
       "  'Personal Individual Raise Beautiful Ever Nature'],\n",
       " ['Civil Ground There Month Program Spend',\n",
       "  'Investment Do Music Reflect Yeah Argue'],\n",
       " ['Present Nation Capital Edge Shake Drive',\n",
       "  'Pretty Early Side Less Name Us',\n",
       "  'Party Age Language Fear But Difficult',\n",
       "  'Police Enough Week Material Loss Current',\n",
       "  'Significant If Glass Woman Condition Pick',\n",
       "  'Provide Until Sport Present Woman Part',\n",
       "  'Require Consider Type Model Service Fact',\n",
       "  'Hand Model People Morning Agency Sea'],\n",
       " ['Size Nice Level Represent War Health',\n",
       "  'National Able Ability Low Show Include',\n",
       "  'Mind Ever Will This Which Prevent',\n",
       "  'Thus Thank Father Defense Very Dinner',\n",
       "  'Home Carry Not Town Painting Dream',\n",
       "  'Position Total Generation Throughout Tree End'],\n",
       " ['Outside Compare Allow Trip Thank Collection',\n",
       "  'Piece Half Opportunity Future Every Be',\n",
       "  'He Seven Really Seem Understand Full',\n",
       "  'Speech Understand Traditional Report Weight Work',\n",
       "  'Start Present Interesting Same Tell Health']]"
      ]
     },
     "execution_count": 6,
     "metadata": {},
     "output_type": "execute_result"
    }
   ],
   "source": [
    "authors"
   ]
  },
  {
   "cell_type": "code",
   "execution_count": null,
   "metadata": {},
   "outputs": [],
   "source": []
  }
 ],
 "metadata": {
  "celltoolbar": "Необработанный формат ячейки",
  "kernelspec": {
   "display_name": "Python 3",
   "language": "python",
   "name": "python3"
  },
  "language_info": {
   "codemirror_mode": {
    "name": "ipython",
    "version": 3
   },
   "file_extension": ".py",
   "mimetype": "text/x-python",
   "name": "python",
   "nbconvert_exporter": "python",
   "pygments_lexer": "ipython3",
   "version": "3.8.6"
  }
 },
 "nbformat": 4,
 "nbformat_minor": 1
}
