{
 "cells": [
  {
   "cell_type": "code",
   "execution_count": 28,
   "metadata": {},
   "outputs": [],
   "source": [
    "import os\n",
    "os.environ[\"DJANGO_ALLOW_ASYNC_UNSAFE\"] = \"true\"\n",
    "import random\n",
    "\n",
    "import django\n",
    "django.setup()\n",
    "\n",
    "from bookstore.models import *\n",
    "from mixer.backend.django import mixer"
   ]
  },
  {
   "cell_type": "code",
   "execution_count": 29,
   "metadata": {},
   "outputs": [],
   "source": [
    "def generate_fields():\n",
    "    author = mixer.cycle(5).blend(Author)\n",
    "    publishers = mixer.cycle(5).blend(Publisher)\n",
    "    tags = mixer.cycle(5).blend(Tag)\n",
    "    indentifiers = mixer.cycle(1).blend(Identifier)\n",
    "    books = mixer.cycle(30).blend(Book, user=mixer.SELECT)\n",
    "    books = [book.authors.add(random.choice(author)) for book in books]"
   ]
  },
  {
   "cell_type": "code",
   "execution_count": 31,
   "metadata": {},
   "outputs": [],
   "source": [
    "generate_fields()"
   ]
  },
  {
   "cell_type": "code",
   "execution_count": null,
   "metadata": {},
   "outputs": [],
   "source": []
  }
 ],
 "metadata": {
  "kernelspec": {
   "display_name": "Python 3",
   "language": "python",
   "name": "python3"
  },
  "language_info": {
   "codemirror_mode": {
    "name": "ipython",
    "version": 3
   },
   "file_extension": ".py",
   "mimetype": "text/x-python",
   "name": "python",
   "nbconvert_exporter": "python",
   "pygments_lexer": "ipython3",
   "version": "3.8.6"
  }
 },
 "nbformat": 4,
 "nbformat_minor": 1
}
